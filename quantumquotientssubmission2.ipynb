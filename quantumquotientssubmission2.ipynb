{
 "cells": [
  {
   "cell_type": "code",
   "execution_count": 1,
   "id": "769017e6",
   "metadata": {
    "_cell_guid": "b1076dfc-b9ad-4769-8c92-a6c4dae69d19",
    "_uuid": "8f2839f25d086af736a60e9eeb907d3b93b6e0e5",
    "execution": {
     "iopub.execute_input": "2024-03-16T13:02:26.499095Z",
     "iopub.status.busy": "2024-03-16T13:02:26.498388Z",
     "iopub.status.idle": "2024-03-16T13:02:40.103346Z",
     "shell.execute_reply": "2024-03-16T13:02:40.101164Z"
    },
    "papermill": {
     "duration": 13.613912,
     "end_time": "2024-03-16T13:02:40.105555",
     "exception": false,
     "start_time": "2024-03-16T13:02:26.491643",
     "status": "completed"
    },
    "tags": []
   },
   "outputs": [
    {
     "name": "stderr",
     "output_type": "stream",
     "text": [
      "2024-03-16 13:02:28.945251: E external/local_xla/xla/stream_executor/cuda/cuda_dnn.cc:9261] Unable to register cuDNN factory: Attempting to register factory for plugin cuDNN when one has already been registered\n",
      "2024-03-16 13:02:28.945364: E external/local_xla/xla/stream_executor/cuda/cuda_fft.cc:607] Unable to register cuFFT factory: Attempting to register factory for plugin cuFFT when one has already been registered\n",
      "2024-03-16 13:02:29.067967: E external/local_xla/xla/stream_executor/cuda/cuda_blas.cc:1515] Unable to register cuBLAS factory: Attempting to register factory for plugin cuBLAS when one has already been registered\n"
     ]
    },
    {
     "name": "stdout",
     "output_type": "stream",
     "text": [
      "/kaggle/input/gdsc-vashisht-ml-hackathon-open-for-all/sample_submission.csv\n",
      "/kaggle/input/gdsc-vashisht-ml-hackathon-open-for-all/X_test.csv\n",
      "/kaggle/input/gdsc-vashisht-ml-hackathon-open-for-all/y_train.csv\n",
      "/kaggle/input/gdsc-vashisht-ml-hackathon-open-for-all/X_train.csv\n"
     ]
    }
   ],
   "source": [
    "# This Python 3 environment comes with many helpful analytics libraries installed\n",
    "# It is defined by the kaggle/python Docker image: https://github.com/kaggle/docker-python\n",
    "# For example, here's several helpful packages to load\n",
    "\n",
    "import numpy as np # linear algebra\n",
    "import pandas as pd # data processing, CSV file I/O (e.g. pd.read_csv)\n",
    "import tensorflow as tf\n",
    "import seaborn as sns\n",
    "import keras\n",
    "from keras.models import Sequential\n",
    "from keras.layers import Dense\n",
    "\n",
    "from sklearn.model_selection import train_test_split\n",
    "from sklearn.ensemble import RandomForestClassifier\n",
    "from sklearn.metrics import accuracy_score\n",
    "from sklearn.metrics import classification_report\n",
    "from sklearn.preprocessing import LabelEncoder\n",
    "from sklearn.model_selection import KFold, cross_val_score\n",
    "from sklearn.tree import DecisionTreeClassifier\n",
    "from sklearn.svm import SVC\n",
    "from sklearn.linear_model import LogisticRegression\n",
    "from sklearn.neighbors import KNeighborsClassifier\n",
    "from sklearn.naive_bayes import GaussianNB\n",
    "from xgboost import XGBClassifier\n",
    "from sklearn.preprocessing import MinMaxScaler\n",
    "\n",
    "\n",
    "\n",
    "# Input data files are available in the read-only \"../input/\" directory\n",
    "# For example, running this (by clicking run or pressing Shift+Enter) will list all files under the input directory\n",
    "\n",
    "import os\n",
    "for dirname, _, filenames in os.walk('/kaggle/input'):\n",
    "    for filename in filenames:\n",
    "        print(os.path.join(dirname, filename))\n",
    "\n",
    "# You can write up to 20GB to the current directory (/kaggle/working/) that gets preserved as output when you create a version using \"Save & Run All\" \n",
    "# You can also write temporary files to /kaggle/temp/, but they won't be saved outside of the current session"
   ]
  },
  {
   "cell_type": "code",
   "execution_count": 2,
   "id": "463d411d",
   "metadata": {
    "execution": {
     "iopub.execute_input": "2024-03-16T13:02:40.115520Z",
     "iopub.status.busy": "2024-03-16T13:02:40.114938Z",
     "iopub.status.idle": "2024-03-16T13:02:40.237238Z",
     "shell.execute_reply": "2024-03-16T13:02:40.236503Z"
    },
    "papermill": {
     "duration": 0.129549,
     "end_time": "2024-03-16T13:02:40.239435",
     "exception": false,
     "start_time": "2024-03-16T13:02:40.109886",
     "status": "completed"
    },
    "tags": []
   },
   "outputs": [
    {
     "data": {
      "text/html": [
       "<div>\n",
       "<style scoped>\n",
       "    .dataframe tbody tr th:only-of-type {\n",
       "        vertical-align: middle;\n",
       "    }\n",
       "\n",
       "    .dataframe tbody tr th {\n",
       "        vertical-align: top;\n",
       "    }\n",
       "\n",
       "    .dataframe thead th {\n",
       "        text-align: right;\n",
       "    }\n",
       "</style>\n",
       "<table border=\"1\" class=\"dataframe\">\n",
       "  <thead>\n",
       "    <tr style=\"text-align: right;\">\n",
       "      <th></th>\n",
       "      <th>date</th>\n",
       "      <th>home_team</th>\n",
       "      <th>away_team</th>\n",
       "      <th>tournament</th>\n",
       "      <th>city</th>\n",
       "      <th>country</th>\n",
       "      <th>neutral</th>\n",
       "    </tr>\n",
       "  </thead>\n",
       "  <tbody>\n",
       "    <tr>\n",
       "      <th>0</th>\n",
       "      <td>2001-03-11</td>\n",
       "      <td>Botswana</td>\n",
       "      <td>Mozambique</td>\n",
       "      <td>Friendly</td>\n",
       "      <td>Maseru</td>\n",
       "      <td>Lesotho</td>\n",
       "      <td>True</td>\n",
       "    </tr>\n",
       "    <tr>\n",
       "      <th>1</th>\n",
       "      <td>1982-06-22</td>\n",
       "      <td>Russia</td>\n",
       "      <td>Scotland</td>\n",
       "      <td>FIFA World Cup</td>\n",
       "      <td>Málaga</td>\n",
       "      <td>Spain</td>\n",
       "      <td>True</td>\n",
       "    </tr>\n",
       "    <tr>\n",
       "      <th>2</th>\n",
       "      <td>1987-07-27</td>\n",
       "      <td>São Tomé and Príncipe</td>\n",
       "      <td>Angola</td>\n",
       "      <td>Friendly</td>\n",
       "      <td>São Tomé</td>\n",
       "      <td>São Tomé and Príncipe</td>\n",
       "      <td>False</td>\n",
       "    </tr>\n",
       "    <tr>\n",
       "      <th>3</th>\n",
       "      <td>2011-09-02</td>\n",
       "      <td>Grenada</td>\n",
       "      <td>Belize</td>\n",
       "      <td>FIFA World Cup qualification</td>\n",
       "      <td>St. George's</td>\n",
       "      <td>Grenada</td>\n",
       "      <td>False</td>\n",
       "    </tr>\n",
       "    <tr>\n",
       "      <th>4</th>\n",
       "      <td>1998-11-18</td>\n",
       "      <td>Luxembourg</td>\n",
       "      <td>Belgium</td>\n",
       "      <td>Friendly</td>\n",
       "      <td>Luxembourg</td>\n",
       "      <td>Luxembourg</td>\n",
       "      <td>False</td>\n",
       "    </tr>\n",
       "  </tbody>\n",
       "</table>\n",
       "</div>"
      ],
      "text/plain": [
       "         date              home_team   away_team  \\\n",
       "0  2001-03-11               Botswana  Mozambique   \n",
       "1  1982-06-22                 Russia    Scotland   \n",
       "2  1987-07-27  São Tomé and Príncipe      Angola   \n",
       "3  2011-09-02                Grenada      Belize   \n",
       "4  1998-11-18             Luxembourg     Belgium   \n",
       "\n",
       "                     tournament          city                country  neutral  \n",
       "0                      Friendly        Maseru                Lesotho     True  \n",
       "1                FIFA World Cup        Málaga                  Spain     True  \n",
       "2                      Friendly      São Tomé  São Tomé and Príncipe    False  \n",
       "3  FIFA World Cup qualification  St. George's                Grenada    False  \n",
       "4                      Friendly    Luxembourg             Luxembourg    False  "
      ]
     },
     "execution_count": 2,
     "metadata": {},
     "output_type": "execute_result"
    }
   ],
   "source": [
    "xtrain=pd.read_csv(\"/kaggle/input/gdsc-vashisht-ml-hackathon-open-for-all/X_train.csv\")\n",
    "xtrain.head()"
   ]
  },
  {
   "cell_type": "code",
   "execution_count": 3,
   "id": "193cc7fb",
   "metadata": {
    "execution": {
     "iopub.execute_input": "2024-03-16T13:02:40.250131Z",
     "iopub.status.busy": "2024-03-16T13:02:40.249798Z",
     "iopub.status.idle": "2024-03-16T13:02:40.295883Z",
     "shell.execute_reply": "2024-03-16T13:02:40.294838Z"
    },
    "papermill": {
     "duration": 0.054103,
     "end_time": "2024-03-16T13:02:40.298301",
     "exception": false,
     "start_time": "2024-03-16T13:02:40.244198",
     "status": "completed"
    },
    "tags": []
   },
   "outputs": [
    {
     "data": {
      "text/html": [
       "<div>\n",
       "<style scoped>\n",
       "    .dataframe tbody tr th:only-of-type {\n",
       "        vertical-align: middle;\n",
       "    }\n",
       "\n",
       "    .dataframe tbody tr th {\n",
       "        vertical-align: top;\n",
       "    }\n",
       "\n",
       "    .dataframe thead th {\n",
       "        text-align: right;\n",
       "    }\n",
       "</style>\n",
       "<table border=\"1\" class=\"dataframe\">\n",
       "  <thead>\n",
       "    <tr style=\"text-align: right;\">\n",
       "      <th></th>\n",
       "      <th>result</th>\n",
       "    </tr>\n",
       "  </thead>\n",
       "  <tbody>\n",
       "    <tr>\n",
       "      <th>0</th>\n",
       "      <td>1</td>\n",
       "    </tr>\n",
       "    <tr>\n",
       "      <th>1</th>\n",
       "      <td>0</td>\n",
       "    </tr>\n",
       "    <tr>\n",
       "      <th>2</th>\n",
       "      <td>0</td>\n",
       "    </tr>\n",
       "    <tr>\n",
       "      <th>3</th>\n",
       "      <td>1</td>\n",
       "    </tr>\n",
       "    <tr>\n",
       "      <th>4</th>\n",
       "      <td>0</td>\n",
       "    </tr>\n",
       "  </tbody>\n",
       "</table>\n",
       "</div>"
      ],
      "text/plain": [
       "   result\n",
       "0       1\n",
       "1       0\n",
       "2       0\n",
       "3       1\n",
       "4       0"
      ]
     },
     "execution_count": 3,
     "metadata": {},
     "output_type": "execute_result"
    }
   ],
   "source": [
    "xval=pd.read_csv(\"/kaggle/input/gdsc-vashisht-ml-hackathon-open-for-all/X_test.csv\")\n",
    "ytrain=pd.read_csv(\"/kaggle/input/gdsc-vashisht-ml-hackathon-open-for-all/y_train.csv\")\n",
    "ytrain.head()"
   ]
  },
  {
   "cell_type": "code",
   "execution_count": 4,
   "id": "d8df80ef",
   "metadata": {
    "execution": {
     "iopub.execute_input": "2024-03-16T13:02:40.309141Z",
     "iopub.status.busy": "2024-03-16T13:02:40.308753Z",
     "iopub.status.idle": "2024-03-16T13:02:40.370493Z",
     "shell.execute_reply": "2024-03-16T13:02:40.369391Z"
    },
    "papermill": {
     "duration": 0.069515,
     "end_time": "2024-03-16T13:02:40.372578",
     "exception": false,
     "start_time": "2024-03-16T13:02:40.303063",
     "status": "completed"
    },
    "tags": []
   },
   "outputs": [
    {
     "data": {
      "text/html": [
       "<div>\n",
       "<style scoped>\n",
       "    .dataframe tbody tr th:only-of-type {\n",
       "        vertical-align: middle;\n",
       "    }\n",
       "\n",
       "    .dataframe tbody tr th {\n",
       "        vertical-align: top;\n",
       "    }\n",
       "\n",
       "    .dataframe thead th {\n",
       "        text-align: right;\n",
       "    }\n",
       "</style>\n",
       "<table border=\"1\" class=\"dataframe\">\n",
       "  <thead>\n",
       "    <tr style=\"text-align: right;\">\n",
       "      <th></th>\n",
       "      <th>date</th>\n",
       "      <th>home_team</th>\n",
       "      <th>away_team</th>\n",
       "      <th>tournament</th>\n",
       "      <th>city</th>\n",
       "      <th>country</th>\n",
       "      <th>neutral</th>\n",
       "    </tr>\n",
       "  </thead>\n",
       "  <tbody>\n",
       "    <tr>\n",
       "      <th>count</th>\n",
       "      <td>41660</td>\n",
       "      <td>41660</td>\n",
       "      <td>41660</td>\n",
       "      <td>41660</td>\n",
       "      <td>41660</td>\n",
       "      <td>41660</td>\n",
       "      <td>41660</td>\n",
       "    </tr>\n",
       "    <tr>\n",
       "      <th>unique</th>\n",
       "      <td>15184</td>\n",
       "      <td>327</td>\n",
       "      <td>320</td>\n",
       "      <td>161</td>\n",
       "      <td>2014</td>\n",
       "      <td>271</td>\n",
       "      <td>2</td>\n",
       "    </tr>\n",
       "    <tr>\n",
       "      <th>top</th>\n",
       "      <td>2012-02-29</td>\n",
       "      <td>Brazil</td>\n",
       "      <td>Uruguay</td>\n",
       "      <td>Friendly</td>\n",
       "      <td>Kuala Lumpur</td>\n",
       "      <td>United States</td>\n",
       "      <td>False</td>\n",
       "    </tr>\n",
       "    <tr>\n",
       "      <th>freq</th>\n",
       "      <td>60</td>\n",
       "      <td>547</td>\n",
       "      <td>514</td>\n",
       "      <td>16079</td>\n",
       "      <td>633</td>\n",
       "      <td>1205</td>\n",
       "      <td>30971</td>\n",
       "    </tr>\n",
       "  </tbody>\n",
       "</table>\n",
       "</div>"
      ],
      "text/plain": [
       "              date home_team away_team tournament          city  \\\n",
       "count        41660     41660     41660      41660         41660   \n",
       "unique       15184       327       320        161          2014   \n",
       "top     2012-02-29    Brazil   Uruguay   Friendly  Kuala Lumpur   \n",
       "freq            60       547       514      16079           633   \n",
       "\n",
       "              country neutral  \n",
       "count           41660   41660  \n",
       "unique            271       2  \n",
       "top     United States   False  \n",
       "freq             1205   30971  "
      ]
     },
     "execution_count": 4,
     "metadata": {},
     "output_type": "execute_result"
    }
   ],
   "source": [
    "xtrain.describe()"
   ]
  },
  {
   "cell_type": "code",
   "execution_count": 5,
   "id": "64742a9f",
   "metadata": {
    "execution": {
     "iopub.execute_input": "2024-03-16T13:02:40.383842Z",
     "iopub.status.busy": "2024-03-16T13:02:40.382936Z",
     "iopub.status.idle": "2024-03-16T13:02:40.401497Z",
     "shell.execute_reply": "2024-03-16T13:02:40.400515Z"
    },
    "papermill": {
     "duration": 0.026102,
     "end_time": "2024-03-16T13:02:40.403476",
     "exception": false,
     "start_time": "2024-03-16T13:02:40.377374",
     "status": "completed"
    },
    "tags": []
   },
   "outputs": [
    {
     "data": {
      "text/plain": [
       "date          0\n",
       "home_team     0\n",
       "away_team     0\n",
       "tournament    0\n",
       "city          0\n",
       "country       0\n",
       "neutral       0\n",
       "dtype: int64"
      ]
     },
     "execution_count": 5,
     "metadata": {},
     "output_type": "execute_result"
    }
   ],
   "source": [
    "xtrain.isnull().sum()"
   ]
  },
  {
   "cell_type": "code",
   "execution_count": 6,
   "id": "012a724d",
   "metadata": {
    "execution": {
     "iopub.execute_input": "2024-03-16T13:02:40.414646Z",
     "iopub.status.busy": "2024-03-16T13:02:40.413891Z",
     "iopub.status.idle": "2024-03-16T13:02:40.509056Z",
     "shell.execute_reply": "2024-03-16T13:02:40.508227Z"
    },
    "papermill": {
     "duration": 0.103207,
     "end_time": "2024-03-16T13:02:40.511573",
     "exception": false,
     "start_time": "2024-03-16T13:02:40.408366",
     "status": "completed"
    },
    "tags": []
   },
   "outputs": [],
   "source": [
    "label_encoder = LabelEncoder()\n",
    "xtrain['date']=label_encoder.fit_transform(xtrain['date'])\n",
    "xtrain['home_team'] = label_encoder.fit_transform(xtrain['home_team'])\n",
    "xtrain['away_team'] = label_encoder.fit_transform(xtrain['away_team'])\n",
    "xtrain['tournament'] = label_encoder.fit_transform(xtrain['tournament'])\n",
    "xtrain['city'] = label_encoder.fit_transform(xtrain['city'])\n",
    "xtrain['country'] = label_encoder.fit_transform(xtrain['country'])\n",
    "xtrain['neutral'] = label_encoder.fit_transform(xtrain['neutral'])\n"
   ]
  },
  {
   "cell_type": "code",
   "execution_count": 7,
   "id": "c363a612",
   "metadata": {
    "execution": {
     "iopub.execute_input": "2024-03-16T13:02:40.522899Z",
     "iopub.status.busy": "2024-03-16T13:02:40.522552Z",
     "iopub.status.idle": "2024-03-16T13:02:40.532460Z",
     "shell.execute_reply": "2024-03-16T13:02:40.531775Z"
    },
    "papermill": {
     "duration": 0.017623,
     "end_time": "2024-03-16T13:02:40.534200",
     "exception": false,
     "start_time": "2024-03-16T13:02:40.516577",
     "status": "completed"
    },
    "tags": []
   },
   "outputs": [
    {
     "data": {
      "text/html": [
       "<div>\n",
       "<style scoped>\n",
       "    .dataframe tbody tr th:only-of-type {\n",
       "        vertical-align: middle;\n",
       "    }\n",
       "\n",
       "    .dataframe tbody tr th {\n",
       "        vertical-align: top;\n",
       "    }\n",
       "\n",
       "    .dataframe thead th {\n",
       "        text-align: right;\n",
       "    }\n",
       "</style>\n",
       "<table border=\"1\" class=\"dataframe\">\n",
       "  <thead>\n",
       "    <tr style=\"text-align: right;\">\n",
       "      <th></th>\n",
       "      <th>date</th>\n",
       "      <th>home_team</th>\n",
       "      <th>away_team</th>\n",
       "      <th>tournament</th>\n",
       "      <th>city</th>\n",
       "      <th>country</th>\n",
       "      <th>neutral</th>\n",
       "    </tr>\n",
       "  </thead>\n",
       "  <tbody>\n",
       "    <tr>\n",
       "      <th>0</th>\n",
       "      <td>11186</td>\n",
       "      <td>36</td>\n",
       "      <td>187</td>\n",
       "      <td>78</td>\n",
       "      <td>1091</td>\n",
       "      <td>129</td>\n",
       "      <td>1</td>\n",
       "    </tr>\n",
       "    <tr>\n",
       "      <th>1</th>\n",
       "      <td>7154</td>\n",
       "      <td>232</td>\n",
       "      <td>242</td>\n",
       "      <td>74</td>\n",
       "      <td>1187</td>\n",
       "      <td>224</td>\n",
       "      <td>1</td>\n",
       "    </tr>\n",
       "    <tr>\n",
       "      <th>2</th>\n",
       "      <td>8182</td>\n",
       "      <td>278</td>\n",
       "      <td>9</td>\n",
       "      <td>78</td>\n",
       "      <td>1748</td>\n",
       "      <td>232</td>\n",
       "      <td>0</td>\n",
       "    </tr>\n",
       "    <tr>\n",
       "      <th>3</th>\n",
       "      <td>13364</td>\n",
       "      <td>115</td>\n",
       "      <td>29</td>\n",
       "      <td>75</td>\n",
       "      <td>1694</td>\n",
       "      <td>93</td>\n",
       "      <td>0</td>\n",
       "    </tr>\n",
       "    <tr>\n",
       "      <th>4</th>\n",
       "      <td>10641</td>\n",
       "      <td>163</td>\n",
       "      <td>28</td>\n",
       "      <td>78</td>\n",
       "      <td>1023</td>\n",
       "      <td>134</td>\n",
       "      <td>0</td>\n",
       "    </tr>\n",
       "  </tbody>\n",
       "</table>\n",
       "</div>"
      ],
      "text/plain": [
       "    date  home_team  away_team  tournament  city  country  neutral\n",
       "0  11186         36        187          78  1091      129        1\n",
       "1   7154        232        242          74  1187      224        1\n",
       "2   8182        278          9          78  1748      232        0\n",
       "3  13364        115         29          75  1694       93        0\n",
       "4  10641        163         28          78  1023      134        0"
      ]
     },
     "execution_count": 7,
     "metadata": {},
     "output_type": "execute_result"
    }
   ],
   "source": [
    "xtrain.head()"
   ]
  },
  {
   "cell_type": "code",
   "execution_count": 8,
   "id": "04139176",
   "metadata": {
    "execution": {
     "iopub.execute_input": "2024-03-16T13:02:40.545838Z",
     "iopub.status.busy": "2024-03-16T13:02:40.545264Z",
     "iopub.status.idle": "2024-03-16T13:02:40.586457Z",
     "shell.execute_reply": "2024-03-16T13:02:40.585341Z"
    },
    "papermill": {
     "duration": 0.049647,
     "end_time": "2024-03-16T13:02:40.588859",
     "exception": false,
     "start_time": "2024-03-16T13:02:40.539212",
     "status": "completed"
    },
    "tags": []
   },
   "outputs": [
    {
     "data": {
      "text/html": [
       "<div>\n",
       "<style scoped>\n",
       "    .dataframe tbody tr th:only-of-type {\n",
       "        vertical-align: middle;\n",
       "    }\n",
       "\n",
       "    .dataframe tbody tr th {\n",
       "        vertical-align: top;\n",
       "    }\n",
       "\n",
       "    .dataframe thead th {\n",
       "        text-align: right;\n",
       "    }\n",
       "</style>\n",
       "<table border=\"1\" class=\"dataframe\">\n",
       "  <thead>\n",
       "    <tr style=\"text-align: right;\">\n",
       "      <th></th>\n",
       "      <th>date</th>\n",
       "      <th>home_team</th>\n",
       "      <th>away_team</th>\n",
       "      <th>tournament</th>\n",
       "      <th>city</th>\n",
       "      <th>country</th>\n",
       "      <th>neutral</th>\n",
       "    </tr>\n",
       "  </thead>\n",
       "  <tbody>\n",
       "    <tr>\n",
       "      <th>count</th>\n",
       "      <td>41660.00000</td>\n",
       "      <td>41660.000000</td>\n",
       "      <td>41660.000000</td>\n",
       "      <td>41660.000000</td>\n",
       "      <td>41660.000000</td>\n",
       "      <td>41660.000000</td>\n",
       "      <td>41660.000000</td>\n",
       "    </tr>\n",
       "    <tr>\n",
       "      <th>mean</th>\n",
       "      <td>9714.85144</td>\n",
       "      <td>158.726308</td>\n",
       "      <td>163.059193</td>\n",
       "      <td>73.326980</td>\n",
       "      <td>948.624076</td>\n",
       "      <td>139.204681</td>\n",
       "      <td>0.256577</td>\n",
       "    </tr>\n",
       "    <tr>\n",
       "      <th>std</th>\n",
       "      <td>4233.84454</td>\n",
       "      <td>90.677020</td>\n",
       "      <td>89.418682</td>\n",
       "      <td>36.773374</td>\n",
       "      <td>582.089995</td>\n",
       "      <td>77.369825</td>\n",
       "      <td>0.436749</td>\n",
       "    </tr>\n",
       "    <tr>\n",
       "      <th>min</th>\n",
       "      <td>0.00000</td>\n",
       "      <td>0.000000</td>\n",
       "      <td>0.000000</td>\n",
       "      <td>0.000000</td>\n",
       "      <td>0.000000</td>\n",
       "      <td>0.000000</td>\n",
       "      <td>0.000000</td>\n",
       "    </tr>\n",
       "    <tr>\n",
       "      <th>25%</th>\n",
       "      <td>6516.00000</td>\n",
       "      <td>85.000000</td>\n",
       "      <td>88.000000</td>\n",
       "      <td>74.000000</td>\n",
       "      <td>426.000000</td>\n",
       "      <td>76.000000</td>\n",
       "      <td>0.000000</td>\n",
       "    </tr>\n",
       "    <tr>\n",
       "      <th>50%</th>\n",
       "      <td>10757.00000</td>\n",
       "      <td>151.000000</td>\n",
       "      <td>160.000000</td>\n",
       "      <td>78.000000</td>\n",
       "      <td>945.500000</td>\n",
       "      <td>135.000000</td>\n",
       "      <td>0.000000</td>\n",
       "    </tr>\n",
       "    <tr>\n",
       "      <th>75%</th>\n",
       "      <td>13367.00000</td>\n",
       "      <td>232.000000</td>\n",
       "      <td>242.000000</td>\n",
       "      <td>78.000000</td>\n",
       "      <td>1454.000000</td>\n",
       "      <td>213.000000</td>\n",
       "      <td>1.000000</td>\n",
       "    </tr>\n",
       "    <tr>\n",
       "      <th>max</th>\n",
       "      <td>15183.00000</td>\n",
       "      <td>326.000000</td>\n",
       "      <td>319.000000</td>\n",
       "      <td>160.000000</td>\n",
       "      <td>2013.000000</td>\n",
       "      <td>270.000000</td>\n",
       "      <td>1.000000</td>\n",
       "    </tr>\n",
       "  </tbody>\n",
       "</table>\n",
       "</div>"
      ],
      "text/plain": [
       "              date     home_team     away_team    tournament          city  \\\n",
       "count  41660.00000  41660.000000  41660.000000  41660.000000  41660.000000   \n",
       "mean    9714.85144    158.726308    163.059193     73.326980    948.624076   \n",
       "std     4233.84454     90.677020     89.418682     36.773374    582.089995   \n",
       "min        0.00000      0.000000      0.000000      0.000000      0.000000   \n",
       "25%     6516.00000     85.000000     88.000000     74.000000    426.000000   \n",
       "50%    10757.00000    151.000000    160.000000     78.000000    945.500000   \n",
       "75%    13367.00000    232.000000    242.000000     78.000000   1454.000000   \n",
       "max    15183.00000    326.000000    319.000000    160.000000   2013.000000   \n",
       "\n",
       "            country       neutral  \n",
       "count  41660.000000  41660.000000  \n",
       "mean     139.204681      0.256577  \n",
       "std       77.369825      0.436749  \n",
       "min        0.000000      0.000000  \n",
       "25%       76.000000      0.000000  \n",
       "50%      135.000000      0.000000  \n",
       "75%      213.000000      1.000000  \n",
       "max      270.000000      1.000000  "
      ]
     },
     "execution_count": 8,
     "metadata": {},
     "output_type": "execute_result"
    }
   ],
   "source": [
    "xtrain.describe()"
   ]
  },
  {
   "cell_type": "code",
   "execution_count": 9,
   "id": "9e0b2009",
   "metadata": {
    "execution": {
     "iopub.execute_input": "2024-03-16T13:02:40.600860Z",
     "iopub.status.busy": "2024-03-16T13:02:40.600551Z",
     "iopub.status.idle": "2024-03-16T13:02:40.612393Z",
     "shell.execute_reply": "2024-03-16T13:02:40.611404Z"
    },
    "papermill": {
     "duration": 0.020084,
     "end_time": "2024-03-16T13:02:40.614334",
     "exception": false,
     "start_time": "2024-03-16T13:02:40.594250",
     "status": "completed"
    },
    "tags": []
   },
   "outputs": [
    {
     "data": {
      "text/html": [
       "<div>\n",
       "<style scoped>\n",
       "    .dataframe tbody tr th:only-of-type {\n",
       "        vertical-align: middle;\n",
       "    }\n",
       "\n",
       "    .dataframe tbody tr th {\n",
       "        vertical-align: top;\n",
       "    }\n",
       "\n",
       "    .dataframe thead th {\n",
       "        text-align: right;\n",
       "    }\n",
       "</style>\n",
       "<table border=\"1\" class=\"dataframe\">\n",
       "  <thead>\n",
       "    <tr style=\"text-align: right;\">\n",
       "      <th></th>\n",
       "      <th>date</th>\n",
       "      <th>home_team</th>\n",
       "      <th>away_team</th>\n",
       "      <th>tournament</th>\n",
       "      <th>city</th>\n",
       "      <th>country</th>\n",
       "      <th>neutral</th>\n",
       "    </tr>\n",
       "  </thead>\n",
       "  <tbody>\n",
       "    <tr>\n",
       "      <th>0</th>\n",
       "      <td>2023-09-06</td>\n",
       "      <td>Macau</td>\n",
       "      <td>Bhutan</td>\n",
       "      <td>Friendly</td>\n",
       "      <td>Taipa</td>\n",
       "      <td>Macau</td>\n",
       "      <td>False</td>\n",
       "    </tr>\n",
       "    <tr>\n",
       "      <th>1</th>\n",
       "      <td>1966-08-13</td>\n",
       "      <td>Malaysia</td>\n",
       "      <td>Vietnam Republic</td>\n",
       "      <td>Merdeka Tournament</td>\n",
       "      <td>Kuala Lumpur</td>\n",
       "      <td>Malaysia</td>\n",
       "      <td>False</td>\n",
       "    </tr>\n",
       "    <tr>\n",
       "      <th>2</th>\n",
       "      <td>1951-09-02</td>\n",
       "      <td>Suriname</td>\n",
       "      <td>Guyana</td>\n",
       "      <td>Friendly</td>\n",
       "      <td>Paramaribo</td>\n",
       "      <td>Suriname</td>\n",
       "      <td>False</td>\n",
       "    </tr>\n",
       "    <tr>\n",
       "      <th>3</th>\n",
       "      <td>2012-08-22</td>\n",
       "      <td>India</td>\n",
       "      <td>Syria</td>\n",
       "      <td>Nehru Cup</td>\n",
       "      <td>New Delhi</td>\n",
       "      <td>India</td>\n",
       "      <td>False</td>\n",
       "    </tr>\n",
       "    <tr>\n",
       "      <th>4</th>\n",
       "      <td>1973-12-15</td>\n",
       "      <td>Thailand</td>\n",
       "      <td>Myanmar</td>\n",
       "      <td>King's Cup</td>\n",
       "      <td>Bangkok</td>\n",
       "      <td>Thailand</td>\n",
       "      <td>False</td>\n",
       "    </tr>\n",
       "  </tbody>\n",
       "</table>\n",
       "</div>"
      ],
      "text/plain": [
       "         date home_team         away_team          tournament          city  \\\n",
       "0  2023-09-06     Macau            Bhutan            Friendly         Taipa   \n",
       "1  1966-08-13  Malaysia  Vietnam Republic  Merdeka Tournament  Kuala Lumpur   \n",
       "2  1951-09-02  Suriname            Guyana            Friendly    Paramaribo   \n",
       "3  2012-08-22     India             Syria           Nehru Cup     New Delhi   \n",
       "4  1973-12-15  Thailand           Myanmar          King's Cup       Bangkok   \n",
       "\n",
       "    country  neutral  \n",
       "0     Macau    False  \n",
       "1  Malaysia    False  \n",
       "2  Suriname    False  \n",
       "3     India    False  \n",
       "4  Thailand    False  "
      ]
     },
     "execution_count": 9,
     "metadata": {},
     "output_type": "execute_result"
    }
   ],
   "source": [
    "xval.head()"
   ]
  },
  {
   "cell_type": "code",
   "execution_count": 10,
   "id": "f5116104",
   "metadata": {
    "execution": {
     "iopub.execute_input": "2024-03-16T13:02:40.626329Z",
     "iopub.status.busy": "2024-03-16T13:02:40.625964Z",
     "iopub.status.idle": "2024-03-16T13:02:40.649969Z",
     "shell.execute_reply": "2024-03-16T13:02:40.648932Z"
    },
    "papermill": {
     "duration": 0.032359,
     "end_time": "2024-03-16T13:02:40.652100",
     "exception": false,
     "start_time": "2024-03-16T13:02:40.619741",
     "status": "completed"
    },
    "tags": []
   },
   "outputs": [],
   "source": [
    "label_encoder = LabelEncoder()\n",
    "xval['date']=label_encoder.fit_transform(xval['date'])\n",
    "xval['home_team'] = label_encoder.fit_transform(xval['home_team'])\n",
    "xval['away_team'] = label_encoder.fit_transform(xval['away_team'])\n",
    "xval['tournament'] = label_encoder.fit_transform(xval['tournament'])\n",
    "xval['city'] = label_encoder.fit_transform(xval['city'])\n",
    "xval['country'] = label_encoder.fit_transform(xval['country'])\n",
    "xval['neutral'] = label_encoder.fit_transform(xval['neutral'])"
   ]
  },
  {
   "cell_type": "code",
   "execution_count": 11,
   "id": "095b394a",
   "metadata": {
    "execution": {
     "iopub.execute_input": "2024-03-16T13:02:40.664713Z",
     "iopub.status.busy": "2024-03-16T13:02:40.664387Z",
     "iopub.status.idle": "2024-03-16T13:02:40.674310Z",
     "shell.execute_reply": "2024-03-16T13:02:40.673345Z"
    },
    "papermill": {
     "duration": 0.018446,
     "end_time": "2024-03-16T13:02:40.676186",
     "exception": false,
     "start_time": "2024-03-16T13:02:40.657740",
     "status": "completed"
    },
    "tags": []
   },
   "outputs": [
    {
     "data": {
      "text/html": [
       "<div>\n",
       "<style scoped>\n",
       "    .dataframe tbody tr th:only-of-type {\n",
       "        vertical-align: middle;\n",
       "    }\n",
       "\n",
       "    .dataframe tbody tr th {\n",
       "        vertical-align: top;\n",
       "    }\n",
       "\n",
       "    .dataframe thead th {\n",
       "        text-align: right;\n",
       "    }\n",
       "</style>\n",
       "<table border=\"1\" class=\"dataframe\">\n",
       "  <thead>\n",
       "    <tr style=\"text-align: right;\">\n",
       "      <th></th>\n",
       "      <th>date</th>\n",
       "      <th>home_team</th>\n",
       "      <th>away_team</th>\n",
       "      <th>tournament</th>\n",
       "      <th>city</th>\n",
       "      <th>country</th>\n",
       "      <th>neutral</th>\n",
       "    </tr>\n",
       "  </thead>\n",
       "  <tbody>\n",
       "    <tr>\n",
       "      <th>0</th>\n",
       "      <td>3364</td>\n",
       "      <td>140</td>\n",
       "      <td>28</td>\n",
       "      <td>62</td>\n",
       "      <td>806</td>\n",
       "      <td>127</td>\n",
       "      <td>0</td>\n",
       "    </tr>\n",
       "    <tr>\n",
       "      <th>1</th>\n",
       "      <td>621</td>\n",
       "      <td>143</td>\n",
       "      <td>260</td>\n",
       "      <td>83</td>\n",
       "      <td>411</td>\n",
       "      <td>131</td>\n",
       "      <td>0</td>\n",
       "    </tr>\n",
       "    <tr>\n",
       "      <th>2</th>\n",
       "      <td>323</td>\n",
       "      <td>227</td>\n",
       "      <td>103</td>\n",
       "      <td>62</td>\n",
       "      <td>612</td>\n",
       "      <td>203</td>\n",
       "      <td>0</td>\n",
       "    </tr>\n",
       "    <tr>\n",
       "      <th>3</th>\n",
       "      <td>2822</td>\n",
       "      <td>110</td>\n",
       "      <td>230</td>\n",
       "      <td>89</td>\n",
       "      <td>575</td>\n",
       "      <td>100</td>\n",
       "      <td>0</td>\n",
       "    </tr>\n",
       "    <tr>\n",
       "      <th>4</th>\n",
       "      <td>880</td>\n",
       "      <td>238</td>\n",
       "      <td>160</td>\n",
       "      <td>74</td>\n",
       "      <td>70</td>\n",
       "      <td>213</td>\n",
       "      <td>0</td>\n",
       "    </tr>\n",
       "  </tbody>\n",
       "</table>\n",
       "</div>"
      ],
      "text/plain": [
       "   date  home_team  away_team  tournament  city  country  neutral\n",
       "0  3364        140         28          62   806      127        0\n",
       "1   621        143        260          83   411      131        0\n",
       "2   323        227        103          62   612      203        0\n",
       "3  2822        110        230          89   575      100        0\n",
       "4   880        238        160          74    70      213        0"
      ]
     },
     "execution_count": 11,
     "metadata": {},
     "output_type": "execute_result"
    }
   ],
   "source": [
    "xval.head()"
   ]
  },
  {
   "cell_type": "code",
   "execution_count": 12,
   "id": "b126d36a",
   "metadata": {
    "execution": {
     "iopub.execute_input": "2024-03-16T13:02:40.688835Z",
     "iopub.status.busy": "2024-03-16T13:02:40.688503Z",
     "iopub.status.idle": "2024-03-16T13:02:40.702899Z",
     "shell.execute_reply": "2024-03-16T13:02:40.702043Z"
    },
    "papermill": {
     "duration": 0.023382,
     "end_time": "2024-03-16T13:02:40.705100",
     "exception": false,
     "start_time": "2024-03-16T13:02:40.681718",
     "status": "completed"
    },
    "tags": []
   },
   "outputs": [],
   "source": [
    "xtrain, xtest, ytrain, ytest = train_test_split(xtrain, ytrain, test_size=0.2, random_state=42)"
   ]
  },
  {
   "cell_type": "code",
   "execution_count": 13,
   "id": "7e47e239",
   "metadata": {
    "execution": {
     "iopub.execute_input": "2024-03-16T13:02:40.717766Z",
     "iopub.status.busy": "2024-03-16T13:02:40.717457Z",
     "iopub.status.idle": "2024-03-16T13:02:42.678802Z",
     "shell.execute_reply": "2024-03-16T13:02:42.678080Z"
    },
    "papermill": {
     "duration": 1.972703,
     "end_time": "2024-03-16T13:02:42.683623",
     "exception": false,
     "start_time": "2024-03-16T13:02:40.710920",
     "status": "completed"
    },
    "tags": []
   },
   "outputs": [
    {
     "name": "stdout",
     "output_type": "stream",
     "text": [
      "Validation Accuracy: 0.5428468554968795\n"
     ]
    }
   ],
   "source": [
    "params = {\n",
    "    'n_estimators': 180,\n",
    "    'max_depth': 7,\n",
    "    'learning_rate': 0.125,\n",
    "    'subsample': 0.7,\n",
    "    'colsample_bytree': 0.8,\n",
    "    'gamma':0 ,\n",
    "    'reg_alpha': 0,\n",
    "    'reg_lambda': 1,\n",
    "    'objective': 'multi: ReLU', \n",
    "    'num_class': 3,  \n",
    "    'eval_metric': 'merror'  \n",
    "}\n",
    "\n",
    "clf = XGBClassifier(**params)\n",
    "clf.fit(xtrain,ytrain)\n",
    "predictions=clf.predict(xtest)\n",
    "accuracy = accuracy_score(ytest, predictions)\n",
    "print(\"Validation Accuracy:\", accuracy)"
   ]
  },
  {
   "cell_type": "code",
   "execution_count": 14,
   "id": "baeeb808",
   "metadata": {
    "execution": {
     "iopub.execute_input": "2024-03-16T13:02:42.701662Z",
     "iopub.status.busy": "2024-03-16T13:02:42.701051Z",
     "iopub.status.idle": "2024-03-16T13:02:42.782186Z",
     "shell.execute_reply": "2024-03-16T13:02:42.779899Z"
    },
    "papermill": {
     "duration": 0.090301,
     "end_time": "2024-03-16T13:02:42.784274",
     "exception": false,
     "start_time": "2024-03-16T13:02:42.693973",
     "status": "completed"
    },
    "tags": []
   },
   "outputs": [
    {
     "name": "stdout",
     "output_type": "stream",
     "text": [
      "Predictions saved to predictions.csv\n"
     ]
    },
    {
     "data": {
      "text/html": [
       "<div>\n",
       "<style scoped>\n",
       "    .dataframe tbody tr th:only-of-type {\n",
       "        vertical-align: middle;\n",
       "    }\n",
       "\n",
       "    .dataframe tbody tr th {\n",
       "        vertical-align: top;\n",
       "    }\n",
       "\n",
       "    .dataframe thead th {\n",
       "        text-align: right;\n",
       "    }\n",
       "</style>\n",
       "<table border=\"1\" class=\"dataframe\">\n",
       "  <thead>\n",
       "    <tr style=\"text-align: right;\">\n",
       "      <th></th>\n",
       "      <th>row_id</th>\n",
       "      <th>result</th>\n",
       "    </tr>\n",
       "  </thead>\n",
       "  <tbody>\n",
       "    <tr>\n",
       "      <th>0</th>\n",
       "      <td>0</td>\n",
       "      <td>2</td>\n",
       "    </tr>\n",
       "    <tr>\n",
       "      <th>1</th>\n",
       "      <td>1</td>\n",
       "      <td>2</td>\n",
       "    </tr>\n",
       "    <tr>\n",
       "      <th>2</th>\n",
       "      <td>2</td>\n",
       "      <td>2</td>\n",
       "    </tr>\n",
       "    <tr>\n",
       "      <th>3</th>\n",
       "      <td>3</td>\n",
       "      <td>2</td>\n",
       "    </tr>\n",
       "    <tr>\n",
       "      <th>4</th>\n",
       "      <td>4</td>\n",
       "      <td>2</td>\n",
       "    </tr>\n",
       "    <tr>\n",
       "      <th>...</th>\n",
       "      <td>...</td>\n",
       "      <td>...</td>\n",
       "    </tr>\n",
       "    <tr>\n",
       "      <th>8327</th>\n",
       "      <td>8327</td>\n",
       "      <td>2</td>\n",
       "    </tr>\n",
       "    <tr>\n",
       "      <th>8328</th>\n",
       "      <td>8328</td>\n",
       "      <td>2</td>\n",
       "    </tr>\n",
       "    <tr>\n",
       "      <th>8329</th>\n",
       "      <td>8329</td>\n",
       "      <td>2</td>\n",
       "    </tr>\n",
       "    <tr>\n",
       "      <th>8330</th>\n",
       "      <td>8330</td>\n",
       "      <td>1</td>\n",
       "    </tr>\n",
       "    <tr>\n",
       "      <th>8331</th>\n",
       "      <td>8331</td>\n",
       "      <td>1</td>\n",
       "    </tr>\n",
       "  </tbody>\n",
       "</table>\n",
       "<p>8332 rows × 2 columns</p>\n",
       "</div>"
      ],
      "text/plain": [
       "      row_id  result\n",
       "0          0       2\n",
       "1          1       2\n",
       "2          2       2\n",
       "3          3       2\n",
       "4          4       2\n",
       "...      ...     ...\n",
       "8327    8327       2\n",
       "8328    8328       2\n",
       "8329    8329       2\n",
       "8330    8330       1\n",
       "8331    8331       1\n",
       "\n",
       "[8332 rows x 2 columns]"
      ]
     },
     "execution_count": 14,
     "metadata": {},
     "output_type": "execute_result"
    }
   ],
   "source": [
    "\n",
    "predictions = clf.predict(xtest)\n",
    "\n",
    "# Create a DataFrame with row_id and predictions\n",
    "output_df = pd.DataFrame({'row_id': range(len(predictions)), 'result': predictions})\n",
    "\n",
    "# Save the DataFrame to a CSV file without including the index column\n",
    "output_df.to_csv('predictions.csv', index=False)\n",
    "\n",
    "print(\"Predictions saved to predictions.csv\")\n",
    "pred=pd.read_csv(\"/kaggle/working/predictions.csv\")\n",
    "pred"
   ]
  },
  {
   "cell_type": "code",
   "execution_count": null,
   "id": "27e578de",
   "metadata": {
    "papermill": {
     "duration": 0.005647,
     "end_time": "2024-03-16T13:02:42.795990",
     "exception": false,
     "start_time": "2024-03-16T13:02:42.790343",
     "status": "completed"
    },
    "tags": []
   },
   "outputs": [],
   "source": []
  }
 ],
 "metadata": {
  "kaggle": {
   "accelerator": "none",
   "dataSources": [
    {
     "databundleVersionId": 7961468,
     "sourceId": 72622,
     "sourceType": "competition"
    }
   ],
   "dockerImageVersionId": 30664,
   "isGpuEnabled": false,
   "isInternetEnabled": true,
   "language": "python",
   "sourceType": "notebook"
  },
  "kernelspec": {
   "display_name": "Python 3",
   "language": "python",
   "name": "python3"
  },
  "language_info": {
   "codemirror_mode": {
    "name": "ipython",
    "version": 3
   },
   "file_extension": ".py",
   "mimetype": "text/x-python",
   "name": "python",
   "nbconvert_exporter": "python",
   "pygments_lexer": "ipython3",
   "version": "3.10.13"
  },
  "papermill": {
   "default_parameters": {},
   "duration": 20.224583,
   "end_time": "2024-03-16T13:02:44.226109",
   "environment_variables": {},
   "exception": null,
   "input_path": "__notebook__.ipynb",
   "output_path": "__notebook__.ipynb",
   "parameters": {},
   "start_time": "2024-03-16T13:02:24.001526",
   "version": "2.5.0"
  }
 },
 "nbformat": 4,
 "nbformat_minor": 5
}
